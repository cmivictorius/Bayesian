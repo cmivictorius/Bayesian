{
 "cells": [
  {
   "cell_type": "code",
   "execution_count": 1,
   "metadata": {},
   "outputs": [],
   "source": [
    "import pymc3 as pm\n",
    "import numpy as np\n",
    "import matplotlib.pyplot as plt\n",
    "import theano"
   ]
  },
  {
   "cell_type": "code",
   "execution_count": 2,
   "metadata": {},
   "outputs": [
    {
     "name": "stderr",
     "output_type": "stream",
     "text": [
      "Multiprocess sampling (2 chains in 2 jobs)\n",
      "Metropolis: [rolls]\n",
      "Sampling 2 chains, 0 divergences: 100%|██████████| 2000/2000 [00:00<00:00, 8759.41draws/s]\n",
      "The number of effective samples is smaller than 25% for some parameters.\n"
     ]
    },
    {
     "data": {
      "text/plain": [
       "array([2, 2, 2, 1, 4, 1, 4, 4, 3, 3, 3, 3, 4, 4, 3, 3, 3, 3, 3, 3, 4, 4,\n",
       "       6, 5, 5, 5, 5, 5, 3, 1, 1, 6, 2, 2, 2, 3, 3, 3, 3, 3, 4, 2, 2, 6,\n",
       "       2, 3, 3, 3, 6, 6, 6, 6, 1, 1, 1, 4, 4, 2, 2, 4, 4, 4, 1, 1, 1, 1,\n",
       "       1, 1, 3, 3, 6, 3, 3, 5, 5, 2, 1, 1, 3, 5, 5, 3, 3, 3, 3, 3, 5, 5,\n",
       "       5, 5, 5, 5, 3, 3, 3, 5, 1, 1, 1, 1, 1, 1, 1, 1, 4, 3, 3, 3, 4, 4,\n",
       "       4, 4, 1, 1, 1, 1, 1, 5, 5, 5, 4, 6, 6, 6, 5, 3, 3, 3, 3, 2, 2, 2,\n",
       "       6, 6, 3, 6, 2, 2, 1, 5, 6, 4, 5, 5, 5, 5, 5, 3, 3, 3, 3, 3, 5, 4,\n",
       "       4, 4, 4, 4, 4, 4, 4, 3, 3, 3, 4, 4, 4, 4, 3, 3, 3, 3, 5, 6, 6, 5,\n",
       "       4, 4, 5, 5, 5, 4, 4, 4, 4, 4, 5, 5, 2, 5, 5, 1, 1, 1, 3, 3, 4, 4,\n",
       "       5, 4, 4, 3, 1, 1, 2, 2, 2, 3, 3, 2, 1, 1, 5, 5, 3, 6, 1, 1, 1, 5,\n",
       "       5, 3, 3, 3, 3, 3, 3, 3, 5, 3, 4, 4, 4, 5, 5, 5, 5, 3, 3, 3, 3, 2,\n",
       "       6, 5, 5, 2, 3, 3, 3, 3, 1, 1, 3, 3, 4, 2, 4, 4, 4, 4, 4, 4, 4, 4,\n",
       "       6, 6, 6, 5, 5, 5, 5, 6, 6, 5, 3, 5, 5, 5, 5, 3, 3, 4, 6, 2, 2, 2,\n",
       "       2, 2, 2, 5, 5, 5, 5, 5, 5, 2, 2, 2, 4, 5, 4, 1, 3, 3, 3, 3, 3, 2,\n",
       "       5, 3, 5, 5, 5, 5, 1, 1, 1, 2, 2, 2, 2, 2, 2, 2, 4, 4, 4, 3, 5, 5,\n",
       "       1, 1, 1, 1, 1, 1, 1, 1, 1, 5, 5, 1, 2, 5, 5, 2, 2, 1, 3, 4, 3, 3,\n",
       "       3, 3, 4, 6, 4, 4, 4, 4, 3, 5, 5, 1, 1, 1, 1, 5, 5, 5, 1, 4, 4, 1,\n",
       "       6, 5, 3, 3, 3, 3, 3, 3, 3, 2, 1, 1, 1, 6, 1, 3, 3, 1, 1, 1, 2, 3,\n",
       "       3, 4, 4, 4, 4, 4, 4, 4, 4, 4, 4, 3, 3, 3, 3, 3, 2, 2, 2, 2, 1, 1,\n",
       "       1, 4, 5, 3, 3, 3, 3, 3, 3, 3, 6, 1, 1, 1, 5, 4, 4, 3, 3, 6, 6, 6,\n",
       "       1, 2, 2, 2, 5, 5, 5, 1, 1, 5, 5, 4, 4, 4, 2, 5, 5, 5, 5, 2, 2, 2,\n",
       "       6, 6, 1, 1, 6, 2, 2, 6, 6, 6, 4, 4, 5, 5, 5, 1, 1, 4, 4, 6, 6, 6,\n",
       "       5, 3, 3, 5, 5, 5, 5, 5, 5, 2, 4, 4, 4, 4, 1, 1, 1, 1, 1, 1, 1, 1,\n",
       "       2, 2, 2, 1, 1, 1, 1, 1, 1, 1, 2, 2, 3, 3, 2, 3, 3, 4, 4, 4, 2, 5,\n",
       "       5, 5, 5, 5, 5, 5, 1, 1, 4, 3, 1, 3, 3, 6, 6, 5, 6, 6, 6, 6, 6, 6,\n",
       "       6, 1, 6, 6, 6, 5, 2, 3, 3, 3, 4, 5, 5, 5, 3, 3, 3, 6, 6, 1, 1, 1,\n",
       "       1, 1, 3, 3, 3, 3, 2, 3, 3, 2, 2, 1, 1, 1, 1, 1, 1, 1, 1, 2, 4, 4,\n",
       "       5, 5, 4, 4, 5, 2, 3, 3, 2, 2, 5, 5, 5, 4, 5, 5, 2, 3, 3, 3, 6, 5,\n",
       "       2, 6, 6, 3, 1, 1, 6, 6, 6, 6, 5, 5, 2, 3, 2, 2, 4, 1, 1, 1, 4, 2,\n",
       "       2, 1, 6, 4, 6, 5, 6, 6, 6, 6, 6, 6, 4, 2, 2, 2, 2, 2, 5, 5, 5, 5,\n",
       "       5, 5, 3, 1, 2, 2, 2, 1, 1, 5, 5, 2, 2, 2, 3, 3, 3, 2, 2, 2, 2, 2,\n",
       "       1, 1, 6, 6, 6, 5, 1, 1, 1, 1, 1, 2, 2, 1, 3, 3, 2, 6, 6, 3, 5, 5,\n",
       "       5, 5, 5, 5, 5, 6, 6, 6, 3, 3, 6, 6, 6, 6, 6, 6, 6, 6, 6, 1, 3, 1,\n",
       "       1, 3, 3, 3, 5, 5, 5, 5, 5, 4, 4, 3, 3, 6, 6, 6, 6, 6, 4, 4, 4, 5,\n",
       "       2, 4, 4, 2, 3, 3, 2, 3, 5, 5, 2, 4, 1, 1, 1, 2, 2, 4, 3, 3, 3, 3,\n",
       "       3, 1, 1, 1, 1, 5, 5, 3, 4, 4, 6, 6, 5, 3, 4, 4, 4, 4, 5, 3, 2, 2,\n",
       "       2, 6, 2, 5, 5, 5, 5, 2, 5, 5, 5, 5, 1, 1, 1, 4, 4, 5, 5, 5, 6, 3,\n",
       "       3, 3, 3, 4, 4, 4, 6, 6, 6, 6, 4, 4, 3, 6, 6, 6, 6, 4, 4, 4, 6, 3,\n",
       "       3, 4, 1, 6, 6, 6, 6, 6, 4, 4, 4, 3, 2, 3, 4, 5, 5, 5, 3, 5, 5, 2,\n",
       "       3, 6, 6, 6, 5, 5, 2, 2, 1, 1, 3, 1, 1, 4, 4, 5, 4, 1, 1, 1, 5, 6,\n",
       "       2, 2, 6, 6, 4, 4, 4, 5, 2, 1, 1, 2, 1, 1, 3, 3, 3, 3, 2, 6, 6, 6,\n",
       "       6, 6, 6, 6, 6, 6, 6, 6, 6, 3, 4, 4, 3, 2, 2, 2, 5, 5, 5, 3, 6, 6,\n",
       "       2, 3, 6, 6, 6, 6, 6, 6, 6, 6, 2, 2, 5, 5, 5, 5, 4, 4, 4, 4, 4, 3,\n",
       "       3, 1, 1, 1, 4, 1, 1, 3, 3, 1, 1, 1, 6, 6, 6, 6, 6, 6, 5, 5, 5, 6,\n",
       "       6, 6, 6, 6, 6, 4, 4, 6, 6, 6, 1, 1, 1, 1, 2, 4, 4, 4, 5, 4, 3, 3,\n",
       "       3, 5, 6, 5, 6, 1, 3, 2, 1, 5])"
      ]
     },
     "execution_count": 2,
     "metadata": {},
     "output_type": "execute_result"
    }
   ],
   "source": [
    "with pm.Model():\n",
    "    rolls = pm.DiscreteUniform('rolls', lower=1, upper=6)\n",
    "    trace = pm.sample(500)\n",
    "trace['rolls']"
   ]
  },
  {
   "cell_type": "code",
   "execution_count": 3,
   "metadata": {},
   "outputs": [
    {
     "name": "stderr",
     "output_type": "stream",
     "text": [
      "Only 1 samples in chain.\n",
      "Multiprocess sampling (2 chains in 2 jobs)\n",
      "Metropolis: [rolls]\n",
      "Sampling 2 chains, 0 divergences: 100%|██████████| 1002/1002 [00:00<00:00, 8080.19draws/s]\n",
      "/Users/victorius/opt/anaconda3/lib/python3.7/site-packages/pymc3/sampling.py:496: UserWarning: The number of samples is too small to check convergence reliably.\n",
      "  warnings.warn(\"The number of samples is too small to check convergence reliably.\")\n"
     ]
    }
   ],
   "source": [
    "probs = np.array([0.1,0.2,0.3,0.2,0.1,0.1])\n",
    "with pm.Model():\n",
    "    rolls = pm.Multinomial('rolls', n=500, p=probs, shape=6)\n",
    "    trace = pm.sample(1)"
   ]
  },
  {
   "cell_type": "code",
   "execution_count": null,
   "metadata": {},
   "outputs": [],
   "source": [
    "observations = np.array([20, 6, 6, 6, 6, 6])\n",
    "with pm.Model():\n",
    "    probs = pm.Dirichlet('probs', a=np.ones(6))  # flat prior\n",
    "    rolls = pm.Multinomial('rolls', n=50, p=probs, observed=observations)\n",
    "    trace = pm.sample(500)\n",
    "trace['probs']"
   ]
  },
  {
   "cell_type": "code",
   "execution_count": null,
   "metadata": {},
   "outputs": [],
   "source": [
    "plt.figure(figsize=(7,7))\n",
    "pm.traceplot(trace[100:])\n",
    "plt.tight_layout();"
   ]
  },
  {
   "cell_type": "code",
   "execution_count": null,
   "metadata": {},
   "outputs": [],
   "source": []
  }
 ],
 "metadata": {
  "kernelspec": {
   "display_name": "Python 3",
   "language": "python",
   "name": "python3"
  },
  "language_info": {
   "codemirror_mode": {
    "name": "ipython",
    "version": 3
   },
   "file_extension": ".py",
   "mimetype": "text/x-python",
   "name": "python",
   "nbconvert_exporter": "python",
   "pygments_lexer": "ipython3",
   "version": "3.7.4"
  }
 },
 "nbformat": 4,
 "nbformat_minor": 2
}
